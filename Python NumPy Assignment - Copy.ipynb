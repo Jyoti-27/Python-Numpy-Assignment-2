{
 "cells": [
  {
   "cell_type": "code",
   "execution_count": 3,
   "metadata": {},
   "outputs": [],
   "source": [
    "import numpy as np"
   ]
  },
  {
   "cell_type": "code",
   "execution_count": 5,
   "metadata": {},
   "outputs": [
    {
     "name": "stdout",
     "output_type": "stream",
     "text": [
      "[[100 110]\n",
      " [120 130]\n",
      " [140 150]\n",
      " [160 170]\n",
      " [180 190]]\n"
     ]
    }
   ],
   "source": [
    "#1. Create a 5X2 integer array from a range between 100 to 200 such that the difference between each element is 10.\n",
    "\n",
    "arr1 = np.arange(100, 200, 10)\n",
    "arr1 = arr1.reshape(5,2)\n",
    "print (arr1)"
   ]
  },
  {
   "cell_type": "code",
   "execution_count": 6,
   "metadata": {},
   "outputs": [
    {
     "name": "stdout",
     "output_type": "stream",
     "text": [
      "3*3*3 array\n",
      " [[15 14  7]\n",
      " [41 28 16]\n",
      " [13 46 46]]\n",
      "The minimum value is 7\n",
      "The maximum value is 46\n"
     ]
    }
   ],
   "source": [
    "#2. Write a NumPy program to create a 3x3x3 array filled with arbitrary values and find the minimum and maximum values.\n",
    "\n",
    "arr2 = np.random.randint(0,50, size = (3,3))\n",
    "print(\"3*3*3 array\\n\",arr2)\n",
    "print(\"The minimum value is\",np.min(arr2))\n",
    "print(\"The maximum value is\",np.max(arr2))"
   ]
  },
  {
   "cell_type": "code",
   "execution_count": 9,
   "metadata": {},
   "outputs": [
    {
     "name": "stdout",
     "output_type": "stream",
     "text": [
      "5x5 zero matrix with elements on the main diagonal equal to 1, 2, 3, 4, 5\n",
      " [[1 0 0 0 0]\n",
      " [0 2 0 0 0]\n",
      " [0 0 3 0 0]\n",
      " [0 0 0 4 0]\n",
      " [0 0 0 0 5]]\n"
     ]
    }
   ],
   "source": [
    "#3. Write a NumPy program to create a 5x5 zero matrix with elements on the main diagonal equal to 1, 2, 3, 4, 5.\n",
    "\n",
    "arr3=np.diag([1,2,3,4,5])\n",
    "print(\"5x5 zero matrix with elements on the main diagonal equal to 1, 2, 3, 4, 5\\n\",arr3)"
   ]
  },
  {
   "cell_type": "code",
   "execution_count": 10,
   "metadata": {},
   "outputs": [
    {
     "name": "stdout",
     "output_type": "stream",
     "text": [
      "The Odd numbers are\n",
      "1\n",
      "3\n",
      "5\n",
      "7\n",
      "9\n",
      "Replacing all odd number with -1 [ 0 -1  2 -1  4 -1  6 -1  8 -1]\n"
     ]
    }
   ],
   "source": [
    "#4. Given an array arr = np.array([0, 1, 2, 3, 4, 5, 6, 7, 8, 9]) \n",
    "#i) Extract all odd numbers from arr \n",
    "#ii) Replace all odd numbers in arr with -1\n",
    "\n",
    "arr4 = np.array([0, 1, 2, 3, 4, 5, 6, 7, 8, 9])\n",
    "print(\"The Odd numbers are\")\n",
    "for i in arr4:\n",
    "    if i%2!=0:\n",
    "        print(i)\n",
    "        arr4[i]=-1\n",
    "print(\"Replacing all odd number with -1\",arr4)"
   ]
  },
  {
   "cell_type": "code",
   "execution_count": 11,
   "metadata": {},
   "outputs": [
    {
     "name": "stdout",
     "output_type": "stream",
     "text": [
      "3x3 identity matrix\n",
      " [[1 0 0]\n",
      " [0 1 0]\n",
      " [0 0 1]]\n"
     ]
    }
   ],
   "source": [
    "#5.Write a NumPy program to create a 3x3 identity matrix, i.e. diagonal elements are 1,the rest are 0.\n",
    "\n",
    "arr5=np.identity(3,dtype=int)\n",
    "print(\"3x3 identity matrix\\n\",arr5)"
   ]
  },
  {
   "cell_type": "code",
   "execution_count": 18,
   "metadata": {},
   "outputs": [
    {
     "name": "stdout",
     "output_type": "stream",
     "text": [
      "Before Converting to float\n",
      " [1, 2, 3, 4, 5]\n",
      "After Converting to float\n",
      " [1. 2. 3. 4. 5.]\n"
     ]
    }
   ],
   "source": [
    "#6. Write a NumPy program to convert an array to a float type.\n",
    "\n",
    "arr6=([1,2,3,4,5])\n",
    "print(\"Before Converting to float\\n\",arr6)\n",
    "arr6_float=np.asfarray(arr6)\n",
    "print(\"After Converting to float\\n\",arr6_float)"
   ]
  },
  {
   "cell_type": "code",
   "execution_count": 17,
   "metadata": {},
   "outputs": [
    {
     "name": "stdout",
     "output_type": "stream",
     "text": [
      "five random numbers from the normal distribution\n",
      " [ 0.79970413 -1.05845265 -0.19294809  0.19482872  0.86236732]\n"
     ]
    }
   ],
   "source": [
    "#7. Write a NumPy program to generate five random numbers from the normal distribution.\n",
    "\n",
    "arr_normal=np.random.normal(size=5)\n",
    "print(\"five random numbers from the normal distribution\\n\",arr_normal)"
   ]
  },
  {
   "cell_type": "code",
   "execution_count": 19,
   "metadata": {},
   "outputs": [
    {
     "name": "stdout",
     "output_type": "stream",
     "text": [
      "Before Removing column 2\n",
      " [[34 43 73]\n",
      " [82 22 12]\n",
      " [53 94 66]]\n",
      "After Removing column 2 and inserting new column in its place\n",
      " [[34 43 10]\n",
      " [82 22 10]\n",
      " [53 94 10]]\n"
     ]
    }
   ],
   "source": [
    "#8. Following is the input NumPy array delete column two and insert following new column in its place.\n",
    "#sampleArray=numpy.array([[34,43,73],[82,22,12],[53,94,66]])\n",
    "#newColumn = numpy.array([[10,10,10]])\n",
    "\n",
    "samplearray=np.array([[34,43,73],[82,22,12],[53,94,66]])\n",
    "newcolumn = np.array([[10,10,10]])\n",
    "print(\"Before Removing column 2\\n\",samplearray)\n",
    "samplearray[:,2]=newcolumn\n",
    "print(\"After Removing column 2 and inserting new column in its place\\n\",samplearray)"
   ]
  },
  {
   "cell_type": "code",
   "execution_count": 21,
   "metadata": {},
   "outputs": [
    {
     "name": "stdout",
     "output_type": "stream",
     "text": [
      "After Multiplication\n",
      " [[ 2  8]\n",
      " [18 32]]\n"
     ]
    }
   ],
   "source": [
    "#9. Write a NumPy program to compute the multiplication of two given matrices.\n",
    "\n",
    "arr_mult1=([1,2],[3,4])\n",
    "arr_mult2=([2,4],[6,8])\n",
    "arr_mult3=np.multiply(arr_mult1,arr_mult2)\n",
    "print(\"After Multiplication\\n\",arr_mult3)"
   ]
  },
  {
   "cell_type": "code",
   "execution_count": 22,
   "metadata": {},
   "outputs": [
    {
     "name": "stdout",
     "output_type": "stream",
     "text": [
      "Before Sorting\n",
      " [0.89537736 0.47651566 0.43828569 0.07086264 0.21140043 0.23076673\n",
      " 0.45380988 0.21039949 0.30674147 0.20892623]\n",
      "After sorting\n",
      " [0.07086264 0.20892623 0.21039949 0.21140043 0.23076673 0.30674147\n",
      " 0.43828569 0.45380988 0.47651566 0.89537736]\n"
     ]
    }
   ],
   "source": [
    "#10. Write a NumPy program to create a random vector of size 10 and sort it.\n",
    "\n",
    "arr_ran=np.random.random(10)\n",
    "print(\"Before Sorting\\n\",arr_ran)\n",
    "arr_ran_sort=np.sort(arr_ran)\n",
    "print(\"After sorting\\n\",arr_ran_sort)"
   ]
  },
  {
   "cell_type": "code",
   "execution_count": 23,
   "metadata": {},
   "outputs": [
    {
     "name": "stdout",
     "output_type": "stream",
     "text": [
      "1st array\n",
      " [0.23766485 0.60272501 0.2951385  0.68689059 0.49397119 0.00650648\n",
      " 0.50131694 0.26585496 0.94609299 0.6839405 ]\n",
      "2nd array\n",
      " [0.98253772 0.72149211 0.13691128 0.68075881 0.94169801 0.48377813\n",
      " 0.04810887 0.98916359 0.5058411  0.69843376]\n",
      "Covariance Matrix\n",
      " [[ 0.07551834 -0.00367543]\n",
      " [-0.00367543  0.10926214]]\n"
     ]
    }
   ],
   "source": [
    "#11. Write a NumPy program to compute the covariance matrix of two arrays.\n",
    "\n",
    "arr_cov1=np.random.random(10)\n",
    "arr_cov2=np.random.random(10)\n",
    "print(\"1st array\\n\",arr_cov1)\n",
    "print(\"2nd array\\n\",arr_cov2)\n",
    "arr_cov=np.cov(arr_cov1,arr_cov2)\n",
    "print(\"Covariance Matrix\\n\",arr_cov)"
   ]
  },
  {
   "cell_type": "code",
   "execution_count": 24,
   "metadata": {},
   "outputs": [
    {
     "name": "stdout",
     "output_type": "stream",
     "text": [
      "4X2 array [[0.00000000e+000 0.00000000e+000]\n",
      " [0.00000000e+000 0.00000000e+000]\n",
      " [0.00000000e+000 6.30427764e-321]\n",
      " [2.13622844e-306 2.22522596e-306]]\n",
      "Shape of Array (4, 2)\n",
      "Dimension of Array 2\n",
      "The Length of each element of the array in bytes 8\n"
     ]
    }
   ],
   "source": [
    "#12.Create a 4X2 integer array and Prints its\n",
    "#i)The shape of an array.\n",
    "#ii) Array dimensions.\n",
    "#iii) The Length of each element of the array in bytes\n",
    "\n",
    "array4X2 = np.empty([4,2])\n",
    "print(\"4X2 array\",array4X2)\n",
    "print(\"Shape of Array\",np.shape(array4X2))\n",
    "print(\"Dimension of Array\",np.ndim(array4X2))\n",
    "print(\"The Length of each element of the array in bytes\",array4X2.itemsize)                  "
   ]
  },
  {
   "cell_type": "code",
   "execution_count": 25,
   "metadata": {},
   "outputs": [
    {
     "name": "stdout",
     "output_type": "stream",
     "text": [
      "Before concatenate\n",
      " ['Yogesh' 'Prasad'] \n",
      " ['Yo' 'Pra']\n",
      "After concatenate element-wise\n",
      " ['YogeshYo' 'PrasadPra']\n"
     ]
    }
   ],
   "source": [
    "#13. Write a NumPy program to concatenate element-wise two arrays of string.\n",
    "\n",
    "arr_str1=np.array(['Yogesh','Prasad'])\n",
    "arr_str2=np.array(['Yo','Pra'])\n",
    "print(\"Before concatenate\\n\",arr_str1,\"\\n\",arr_str2)\n",
    "arr_str3=np.char.add(arr_str1,arr_str2)\n",
    "print(\"After concatenate element-wise\\n\",arr_str3)"
   ]
  },
  {
   "cell_type": "code",
   "execution_count": 26,
   "metadata": {},
   "outputs": [
    {
     "name": "stdout",
     "output_type": "stream",
     "text": [
      "original array\n",
      " ['Yogesh' 'Prasad' 'Aditya' 'Rohan']\n",
      "Capitalize the first letter\n",
      " ['Yogesh' 'Prasad' 'Aditya' 'Rohan']\n",
      "Lowercase\n",
      " ['yogesh' 'prasad' 'aditya' 'rohan']\n",
      "Uppercase\n",
      " ['YOGESH' 'PRASAD' 'ADITYA' 'ROHAN']\n",
      "Swapcase\n",
      " ['yOGESH' 'pRASAD' 'aDITYA' 'rOHAN']\n",
      "Title Case\n",
      " ['Yogesh' 'Prasad' 'Aditya' 'Rohan']\n"
     ]
    }
   ],
   "source": [
    "#14. Write a NumPy program to capitalize the first letter, lowercase, uppercase, swapcase, title-case of all the \n",
    "#elements of a given array.\n",
    "\n",
    "arr_strp=np.array(['Yogesh','Prasad','Aditya','Rohan'])\n",
    "print(\"original array\\n\",arr_strp)\n",
    "print(\"Capitalize the first letter\\n\",np.char.capitalize(arr_strp))\n",
    "print(\"Lowercase\\n\",np.char.lower(arr_strp))\n",
    "print(\"Uppercase\\n\",np.char.upper(arr_strp))\n",
    "print(\"Swapcase\\n\",np.char.swapcase(arr_strp))\n",
    "print(\"Title Case\\n\",np.char.title(arr_strp))"
   ]
  },
  {
   "cell_type": "code",
   "execution_count": 27,
   "metadata": {},
   "outputs": [
    {
     "name": "stdout",
     "output_type": "stream",
     "text": [
      "Array before converting to list\n",
      " ['Yogesh' 'Prasad' 'Aditya' 'Rohan']\n",
      "After converting to list\n",
      " ['Yogesh', 'Prasad', 'Aditya', 'Rohan']\n",
      "<class 'list'>\n"
     ]
    }
   ],
   "source": [
    "#15. Write a NumPy program to convert a given array into a list.\n",
    "\n",
    "print(\"Array before converting to list\\n\",arr_strp)\n",
    "list_arr_strp=list(arr_strp)\n",
    "print(\"After converting to list\\n\",list_arr_strp)\n",
    "print(type(list_arr_strp))"
   ]
  },
  {
   "cell_type": "code",
   "execution_count": 28,
   "metadata": {},
   "outputs": [
    {
     "name": "stdout",
     "output_type": "stream",
     "text": [
      "Array\n",
      " [[15 14  7]\n",
      " [41 28 16]\n",
      " [13 46 46]]\n",
      "sum of all elements 226\n",
      "Sum of 1st column 69\n",
      "Sum of 2nd column 88\n",
      "Sum of 3rd column 69\n",
      "Sum of 1st row 36\n",
      "Sum of 2nd row 85\n",
      "Sum of 3rd row 105\n"
     ]
    }
   ],
   "source": [
    "#16. Write a NumPy program to compute the sum of all elements, sum of each column and sum of each row of a given array.\n",
    "\n",
    "print(\"Array\\n\",arr2)\n",
    "print(\"sum of all elements\",np.sum(arr2))\n",
    "print(\"Sum of 1st column\",np.sum(arr2[:,0]))\n",
    "print(\"Sum of 2nd column\",np.sum(arr2[:,1]))\n",
    "print(\"Sum of 3rd column\",np.sum(arr2[:,2]))\n",
    "print(\"Sum of 1st row\",np.sum(arr2[0,:]))\n",
    "print(\"Sum of 2nd row\",np.sum(arr2[1,:]))\n",
    "print(\"Sum of 3rd row\",np.sum(arr2[2,:]))\n"
   ]
  },
  {
   "cell_type": "code",
   "execution_count": 31,
   "metadata": {},
   "outputs": [
    {
     "name": "stdout",
     "output_type": "stream",
     "text": [
      "10X4 array\n",
      " [[0.20665808 0.62210976 0.29834752 0.75123074]\n",
      " [0.40314017 0.46413216 0.73529309 0.75828185]\n",
      " [0.56326635 0.79323762 0.58794299 0.1140241 ]\n",
      " [0.79953884 0.97214913 0.73987457 0.81734778]\n",
      " [0.41964475 0.73667633 0.78491459 0.33571103]\n",
      " [0.64400736 0.44204658 0.37623714 0.02864029]\n",
      " [0.57680178 0.54242294 0.07287867 0.57526745]\n",
      " [0.90233289 0.6211372  0.35684997 0.03480289]\n",
      " [0.95041628 0.23767056 0.13773769 0.61164573]\n",
      " [0.8382163  0.10095475 0.34726455 0.71920408]]\n",
      "extract the first five rows of the array and store them into a variable\n",
      " [[0.20665808 0.62210976 0.29834752 0.75123074]\n",
      " [0.40314017 0.46413216 0.73529309 0.75828185]\n",
      " [0.56326635 0.79323762 0.58794299 0.1140241 ]\n",
      " [0.79953884 0.97214913 0.73987457 0.81734778]\n",
      " [0.41964475 0.73667633 0.78491459 0.33571103]]\n"
     ]
    }
   ],
   "source": [
    "#17. Write a NumPy program to create a random 10x4 array and extract the first five rows of the array and store \n",
    "#them into a variable.\n",
    "\n",
    "arr10X4=np.random.rand(10,4)\n",
    "print(\"10X4 array\\n\",arr10X4)\n",
    "storeval=arr10X4[:5]\n",
    "print(\"extract the first five rows of the array and store them into a variable\\n\",storeval)"
   ]
  },
  {
   "cell_type": "code",
   "execution_count": 32,
   "metadata": {},
   "outputs": [
    {
     "name": "stdout",
     "output_type": "stream",
     "text": [
      "Original 1D Array\n",
      " [1 2 3 4 6 5 4 3 1]\n",
      "Unique Elements in 1D Array\n",
      " [1 2 3 4 5 6]\n",
      "Original 2D Array\n",
      " [[1 2]\n",
      " [2 3]\n",
      " [3 4]\n",
      " [5 6]]\n",
      "Unique Elements in 2D Array\n",
      " [1 2 3 4 5 6]\n"
     ]
    }
   ],
   "source": [
    "#18. Write a NumPy program to get the unique elements of a 1D and 2D array.\n",
    "\n",
    "arr1d=np.array([1,2,3,4,6,5,4,3,1])\n",
    "print(\"Original 1D Array\\n\",arr1d)\n",
    "print(\"Unique Elements in 1D Array\\n\",np.unique(arr1d))\n",
    "arr2d=np.array([[1,2],[2,3],[3,4],[5,6]])\n",
    "print(\"Original 2D Array\\n\",arr2d)\n",
    "print(\"Unique Elements in 2D Array\\n\",np.unique(arr2d))"
   ]
  },
  {
   "cell_type": "code",
   "execution_count": 33,
   "metadata": {},
   "outputs": [
    {
     "name": "stdout",
     "output_type": "stream",
     "text": [
      "[-10.    12.     0.12  -0.2   12.   -10.  ]\n"
     ]
    },
    {
     "data": {
      "text/plain": [
       "array([-10.  ,  -0.2 ,   0.12,  12.  ])"
      ]
     },
     "execution_count": 33,
     "metadata": {},
     "output_type": "execute_result"
    }
   ],
   "source": [
    "#19. Write a NumPy program to get the unique elements of an array.\n",
    "#arr= [ -10 12.12 -0.2]\n",
    "\n",
    "arr1 = np.array([-10, 12,.12,-0.2,12,-10])\n",
    "print(arr1)\n",
    "np.unique(arr1)"
   ]
  },
  {
   "cell_type": "code",
   "execution_count": 34,
   "metadata": {},
   "outputs": [
    {
     "name": "stdout",
     "output_type": "stream",
     "text": [
      "Before Loading into Text File\n",
      " [[0 1 2]\n",
      " [3 4 5]\n",
      " [6 7 8]]\n",
      "After Pulling from Text File\n",
      " [[0. 1. 2.]\n",
      " [3. 4. 5.]\n",
      " [6. 7. 8.]]\n"
     ]
    }
   ],
   "source": [
    "#20. Write a NumPy program to save a given array to a text file and load it. You have to save and load files using numpy library.\n",
    "\n",
    "arr_txt=np.arange(9).reshape(3, 3)\n",
    "print(\"Before Loading into Text File\\n\",arr_txt)\n",
    "np.savetxt(\"text.txt\",arr_txt)\n",
    "arr_ret=np.loadtxt(\"text.txt\")\n",
    "print(\"After Pulling from Text File\\n\",arr_ret)"
   ]
  },
  {
   "cell_type": "code",
   "execution_count": null,
   "metadata": {},
   "outputs": [],
   "source": []
  },
  {
   "cell_type": "code",
   "execution_count": null,
   "metadata": {},
   "outputs": [],
   "source": []
  }
 ],
 "metadata": {
  "kernelspec": {
   "display_name": "Python 3",
   "language": "python",
   "name": "python3"
  },
  "language_info": {
   "codemirror_mode": {
    "name": "ipython",
    "version": 3
   },
   "file_extension": ".py",
   "mimetype": "text/x-python",
   "name": "python",
   "nbconvert_exporter": "python",
   "pygments_lexer": "ipython3",
   "version": "3.7.6"
  }
 },
 "nbformat": 4,
 "nbformat_minor": 4
}
